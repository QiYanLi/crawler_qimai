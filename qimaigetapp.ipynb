{
 "cells": [
  {
   "cell_type": "code",
   "execution_count": 12,
   "metadata": {},
   "outputs": [],
   "source": [
    "import requests, os, execjs, json, js2py,time\n",
    "import pandas as pd\n",
    "#from selenium import webdriver\n",
    "#browser = webdriver.Chrome(executable_path=r\"chromedriver.exe\")\n",
    "\n",
    "headers = {\n",
    "    \"User-Agent\": \"Mozilla/5.0 (Macintosh; Intel Mac OS X 10_11_6) AppleWebKit/537.36 (KHTML, like Gecko) Chrome/72.0.3626.109 Safari/537.36\",\n",
    "    \"Content-Type\": \"application/x-www-form-urlencoded\",\n",
    "    \"Accept\": \"text/html,application/xhtml+xml,application/xml;q=0.9,image/webp,image/apng,*/*;q=0.8\",\n",
    "}\n",
    "\n",
    "cookies = dict()\n",
    "\n",
    "def getproxies():\n",
    "    url='https://too.ueuz.com/frontapi/public/http/get_ip/index?type=-1&iptimelong=9&ipcount=1&protocol=0&areatype=1&area=&resulttype=json&duplicate=1&separator=1&other=&show_city=0&show_carrier=0&show_expire=true&isp=-1&auth_key=a60d4dd342a020392c0a353f330fbd16&app_key=39f840f0332bed159902e385641bfb54&timestamp=1576722135&sign=673CD0FBECFF14182BCABDBAF6A785FA'\n",
    "    #print(url)\n",
    "    proxies=[]\n",
    "    while proxies==[]:\n",
    "        print('代理为空',proxies)\n",
    "        proxies=requests.get(url).text\n",
    "        proxies=json.loads(proxies)\n",
    "    \n",
    "    return proxies[0]\n",
    "    \n",
    "\n",
    "\n",
    "def geturl(synct, params):\n",
    "    data=open('qimai','r',encoding= 'utf8').read()\n",
    "    context = js2py.EvalJs()\n",
    "    context.execute(data)\n",
    "    #js_path = \"%s/qimai\" % \"/\".join(os.path.abspath(__file__).split(\"/\")[:-1])\n",
    "    with open('qimai', encoding='utf-8') as f:     \n",
    "        #js_content = f.read()\n",
    "        #ctx = execjs.compile(js_content)       \n",
    "        new_pwd = context.getapp(synct, params)#ctx.call(\"get0analysis\", synct, params)\n",
    "        return new_pwd\n",
    "\n",
    "def qimai(keyword,country,proxies):#\n",
    "    proxies = {'http': proxies['ip'],'https': proxies['ip']}\n",
    "    headers['Cookie']='gr_user_id=ace5fdfe-8cc6-4cc1-9767-b13f2803b95d; grwng_uid=aab60134-4693-4e92-bdb8-f83ea6385296; ada35577182650f1_gr_last_sent_cs1=qm6351855182; qm_check=SxJXQEUSChd2fHd1dRQQeV5EVVwYYhwXZ3h9EHNKUUBYWVNDEAMEAhB9WUZdU0QDdAEBEENEbQVmABRIQ28FbwAZEhkVUVhcU18aChIAHAAcABkHHgAbTQ%3D%3D; PHPSESSID=55rdesc3d26ninhi00ge8iqp10; Hm_lvt_ff3eefaf44c797b33945945d0de0e370=1575960367,1577079841,1578301726,1578535999; ada35577182650f1_gr_session_id=d7081057-539e-4e4a-ba5e-4b22e31075e2; ada35577182650f1_gr_last_sent_sid_with_cs1=d7081057-539e-4e4a-ba5e-4b22e31075e2; ada35577182650f1_gr_session_id_d7081057-539e-4e4a-ba5e-4b22e31075e2=true; synct=1578539619.361; syncd=-1804; Hm_lpvt_ff3eefaf44c797b33945945d0de0e370=1578539622'\n",
    "    resp = requests.get('https://www.qimai.cn/search/index/country/us/search/%s'%keyword, headers=headers, verify=False,proxies=proxies)\n",
    "    cookies.update(resp.cookies.get_dict())\n",
    "    synct = cookies.get('synct')\n",
    "    \n",
    "    print(cookies)\n",
    "    params = {\n",
    "        'device':\"ipad\",\n",
    "        'country': country,\n",
    "        'search': keyword,\n",
    "        \"version\":\"ios12\",\n",
    "        \"date\":\"2020-03-19\"\n",
    "        }\n",
    "    print(synct, params)\n",
    "    analy_list = geturl(synct, params).replace(\"+\",\"%2B\")\n",
    "    url = \"https://api.qimai.cn/search/index?analysis=%s&device=%s&country=%s&search=%s&version=%s&date=%s\"%(analy_list,params['device'],country,keyword,params['version'],params['date'])\n",
    "    print(url)\n",
    "    resp = requests.get(url=url, headers=headers, verify=False, cookies=cookies,proxies=proxies,timeout=5)\n",
    "    html = json.loads(resp.text)\n",
    "    html=html[\"wordInfo\"]['tipArr'] \n",
    "    message=[]\n",
    "    for i in html:\n",
    "        if i[\"genre_id\"]==\"5000\" and  i[\"brand_id\"]==\"1\":\n",
    "            mess=[]\n",
    "            data=i[\"data\"][0][1]\n",
    "            mess.append(appid)\n",
    "            mess.append(data)\n",
    "            message.append(mess)      \n",
    "    return message"
   ]
  },
  {
   "cell_type": "code",
   "execution_count": 13,
   "metadata": {},
   "outputs": [
    {
     "name": "stdout",
     "output_type": "stream",
     "text": [
      "代理为空 []\n"
     ]
    },
    {
     "name": "stderr",
     "output_type": "stream",
     "text": [
      "D:\\applicathon\\anaconda3\\lib\\site-packages\\urllib3\\connectionpool.py:847: InsecureRequestWarning: Unverified HTTPS request is being made. Adding certificate verification is strongly advised. See: https://urllib3.readthedocs.io/en/latest/advanced-usage.html#ssl-warnings\n",
      "  InsecureRequestWarning)\n"
     ]
    },
    {
     "name": "stdout",
     "output_type": "stream",
     "text": [
      "{'synct': '1584606062.416'}\n",
      "1584606062.416 {'device': 'ipad', 'country': 'us', 'search': 'productive', 'version': 'ios12', 'date': '2020-03-19'}\n",
      "https://api.qimai.cn/search/index?analysis=dQ51TyxzAEd9SQBIdzNbTgdOcxhRaHJYanhyQQYFalVtBTNAVF1mAVNHBVl3G0tHUwBCU1gfWV5UXRx3G1INAlkABAAIBQcBeEcG&device=ipad&country=us&search=productive&version=ios12&date=2020-03-19\n"
     ]
    },
    {
     "name": "stderr",
     "output_type": "stream",
     "text": [
      "D:\\applicathon\\anaconda3\\lib\\site-packages\\urllib3\\connectionpool.py:847: InsecureRequestWarning: Unverified HTTPS request is being made. Adding certificate verification is strongly advised. See: https://urllib3.readthedocs.io/en/latest/advanced-usage.html#ssl-warnings\n",
      "  InsecureRequestWarning)\n"
     ]
    },
    {
     "ename": "KeyError",
     "evalue": "'genre_id'",
     "output_type": "error",
     "traceback": [
      "\u001b[1;31m---------------------------------------------------------------------------\u001b[0m",
      "\u001b[1;31mKeyError\u001b[0m                                  Traceback (most recent call last)",
      "\u001b[1;32m<ipython-input-13-748afd69b311>\u001b[0m in \u001b[0;36m<module>\u001b[1;34m\u001b[0m\n\u001b[1;32m----> 1\u001b[1;33m \u001b[0mqimai\u001b[0m\u001b[1;33m(\u001b[0m\u001b[1;34m'productive'\u001b[0m\u001b[1;33m,\u001b[0m\u001b[1;34m'us'\u001b[0m\u001b[1;33m,\u001b[0m\u001b[0mgetproxies\u001b[0m\u001b[1;33m(\u001b[0m\u001b[1;33m)\u001b[0m\u001b[1;33m)\u001b[0m\u001b[1;33m\u001b[0m\u001b[1;33m\u001b[0m\u001b[0m\n\u001b[0m",
      "\u001b[1;32m<ipython-input-12-1c7aa060e974>\u001b[0m in \u001b[0;36mqimai\u001b[1;34m(keyword, country, proxies)\u001b[0m\n\u001b[0;32m     60\u001b[0m     \u001b[0mmessage\u001b[0m\u001b[1;33m=\u001b[0m\u001b[1;33m[\u001b[0m\u001b[1;33m]\u001b[0m\u001b[1;33m\u001b[0m\u001b[1;33m\u001b[0m\u001b[0m\n\u001b[0;32m     61\u001b[0m     \u001b[1;32mfor\u001b[0m \u001b[0mi\u001b[0m \u001b[1;32min\u001b[0m \u001b[0mhtml\u001b[0m\u001b[1;33m:\u001b[0m\u001b[1;33m\u001b[0m\u001b[1;33m\u001b[0m\u001b[0m\n\u001b[1;32m---> 62\u001b[1;33m         \u001b[1;32mif\u001b[0m \u001b[0mi\u001b[0m\u001b[1;33m[\u001b[0m\u001b[1;34m\"genre_id\"\u001b[0m\u001b[1;33m]\u001b[0m\u001b[1;33m==\u001b[0m\u001b[1;34m\"5000\"\u001b[0m \u001b[1;32mand\u001b[0m  \u001b[0mi\u001b[0m\u001b[1;33m[\u001b[0m\u001b[1;34m\"brand_id\"\u001b[0m\u001b[1;33m]\u001b[0m\u001b[1;33m==\u001b[0m\u001b[1;34m\"1\"\u001b[0m\u001b[1;33m:\u001b[0m\u001b[1;33m\u001b[0m\u001b[1;33m\u001b[0m\u001b[0m\n\u001b[0m\u001b[0;32m     63\u001b[0m             \u001b[0mmess\u001b[0m\u001b[1;33m=\u001b[0m\u001b[1;33m[\u001b[0m\u001b[1;33m]\u001b[0m\u001b[1;33m\u001b[0m\u001b[1;33m\u001b[0m\u001b[0m\n\u001b[0;32m     64\u001b[0m             \u001b[0mdata\u001b[0m\u001b[1;33m=\u001b[0m\u001b[0mi\u001b[0m\u001b[1;33m[\u001b[0m\u001b[1;34m\"data\"\u001b[0m\u001b[1;33m]\u001b[0m\u001b[1;33m[\u001b[0m\u001b[1;36m0\u001b[0m\u001b[1;33m]\u001b[0m\u001b[1;33m[\u001b[0m\u001b[1;36m1\u001b[0m\u001b[1;33m]\u001b[0m\u001b[1;33m\u001b[0m\u001b[1;33m\u001b[0m\u001b[0m\n",
      "\u001b[1;31mKeyError\u001b[0m: 'genre_id'"
     ]
    }
   ],
   "source": [
    "qimai('productive','us',getproxies())"
   ]
  },
  {
   "cell_type": "code",
   "execution_count": null,
   "metadata": {},
   "outputs": [],
   "source": []
  }
 ],
 "metadata": {
  "kernelspec": {
   "display_name": "Python 3",
   "language": "python",
   "name": "python3"
  },
  "language_info": {
   "codemirror_mode": {
    "name": "ipython",
    "version": 3
   },
   "file_extension": ".py",
   "mimetype": "text/x-python",
   "name": "python",
   "nbconvert_exporter": "python",
   "pygments_lexer": "ipython3",
   "version": "3.7.3"
  }
 },
 "nbformat": 4,
 "nbformat_minor": 2
}
